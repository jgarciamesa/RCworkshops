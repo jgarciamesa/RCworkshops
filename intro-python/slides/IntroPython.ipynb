{
 "cells": [
  {
   "cell_type": "markdown",
   "metadata": {
    "slideshow": {
     "slide_type": "slide"
    }
   },
   "source": [
    "# High-performance Python\n",
    "\n",
    "#### Jason Yalim\n",
    "#### August 31, 2023\n",
    "\n",
    "<hr></hr>"
   ]
  },
  {
   "cell_type": "markdown",
   "metadata": {
    "slideshow": {
     "slide_type": "slide"
    }
   },
   "source": [
    "# Questions\n",
    "\n",
    "* How many of you have prior experience programming in Python?\n",
    "* If not Python, what other programming languages do you have experience with?\n",
    "* How many of you have prior experience on HPC systems?\n",
    "* How many of you have experience computing on GPUs?"
   ]
  },
  {
   "cell_type": "markdown",
   "metadata": {
    "slideshow": {
     "slide_type": "slide"
    }
   },
   "source": [
    "# Python as a programming language\n",
    "\n",
    "### General-purpose\n",
    "* Python was not designed as a language for scientific/technical computing (unlike MATLAB, R, Mathematica)\n",
    "* Additional functionality is provided by external libraries that can be imported\n",
    "\n",
    "### Interpreted\n",
    "* Code is executed by another program (an interpreter), not compiled into an executable\n",
    "* Can be run standalone (<code>python filename.py</code>) or in an interactive mode"
   ]
  },
  {
   "cell_type": "markdown",
   "metadata": {
    "slideshow": {
     "slide_type": "slide"
    }
   },
   "source": [
    "# Python as a programming language\n",
    "\n",
    "### Dynamically typed\n",
    "* Variables acquire the type of whatever object is assigned to them, do not need to be declared\n",
    "* Code will run if objects are able to carry out the operations asked of them (\"duck typing\")\n",
    "\n",
    "### Object-oriented\n",
    "* Everything\\* is an object, with an associated namespace (\\*except for keywords that are part of language)\n",
    "* Programming support for defining new classes of objects"
   ]
  },
  {
   "cell_type": "markdown",
   "metadata": {
    "slideshow": {
     "slide_type": "slide"
    }
   },
   "source": [
    "# Python as an ecosystem\n",
    "\n",
    "### Flexible and expressive programming language\n",
    "\n",
    "### Rich set of external packages\n",
    "* Python Standard Library\n",
    "* Third-party libraries and tools for scientific computing, data science, visualization, web programming, etc.\n",
    "* numpy, scipy, pandas, matplotlib, seaborn, scikit-learn, sympy, networkx, ipython, jupyter, etc.\n",
    "\n",
    "### Enthusiastic and productive developer and user communities\n",
    "* https://www.python.org"
   ]
  },
  {
   "cell_type": "markdown",
   "metadata": {
    "slideshow": {
     "slide_type": "slide"
    }
   },
   "source": [
    "# Development and execution environments\n",
    "\n",
    "We need to be able to write code, and to run code.  There are many ways to do this.\n",
    "\n",
    "### Code Editors\n",
    "* too many to name, but you want one that provides support for Python programming\n",
    "\n",
    "### Python Interpreters\n",
    "* python: the default interpreter (also known as CPython)\n",
    "* ipython: enhanced interpreter to facilitate interactive exploration and development\n",
    "\n",
    "### Notebooks and integrated development environments (IDEs)\n",
    "* Jupyter: browser-based notebooks (integration of ipython, markdown and graphics)\n",
    "* Spyder: IDE with editor, ipython interpreter, various explorer panes\n",
    "* many others"
   ]
  },
  {
   "cell_type": "markdown",
   "metadata": {
    "slideshow": {
     "slide_type": "slide"
    }
   },
   "source": [
    "# Development and execution environments (continued)\n",
    "\n",
    "### Standalone editor + python/ipython in terminal\n",
    "* Flexibility to use editor of choice and lightweight environment for running code\n",
    "* ipython for exploratory data analysis or algorithm development / python for command line jobs\n",
    "\n",
    "### Integrated development environment (IDE)\n",
    "* Useful integration of editor and interpreter with additional support (e.g., file/variable explorers)\n",
    "* Similar to environments developed for other languages (e.g., MATLAB GUI, RStudio)\n",
    "\n",
    "### Jupyter notebooks\n",
    "* Integrate code, documentation and graphics -- great for presenting computations and results\n",
    "* Less useful as a development environment for creating large libraries or programs (but can run/load code developed elsewhere)\n"
   ]
  },
  {
   "cell_type": "markdown",
   "metadata": {
    "slideshow": {
     "slide_type": "slide"
    }
   },
   "source": [
    "# Running our program in a Jupyter notebook\n",
    "\n",
    "* We're running in one now... \n",
    "* This cell is a **Markdown** cell, for text and documentation\n",
    "* The cells below are **Code** cells\n",
    "* Cell mode can be changed with the buttons/menus at the top of the web page\n",
    "* A cell is **executed** via ```Shift+Enter```\n",
    "* Any line starting with ```%``` or ```%%``` is a \"magic\" function in ipython/jupyter, not part of Python language"
   ]
  },
  {
   "cell_type": "code",
   "execution_count": 1,
   "metadata": {
    "slideshow": {
     "slide_type": "-"
    }
   },
   "outputs": [
    {
     "name": "stdout",
     "output_type": "stream",
     "text": [
      "Hello, World!\n"
     ]
    }
   ],
   "source": [
    "%run hello.py"
   ]
  },
  {
   "cell_type": "code",
   "execution_count": 2,
   "metadata": {
    "slideshow": {
     "slide_type": "-"
    }
   },
   "outputs": [
    {
     "data": {
      "text/plain": [
       "5"
      ]
     },
     "execution_count": 2,
     "metadata": {},
     "output_type": "execute_result"
    }
   ],
   "source": [
    "2 + 3"
   ]
  },
  {
   "cell_type": "markdown",
   "metadata": {
    "slideshow": {
     "slide_type": "slide"
    }
   },
   "source": [
    "# Help\n",
    "\n",
    "* Online Python documentation: https://docs.python.org/3/\n",
    "* Interactive help function and ipython/jupyter ?/??"
   ]
  },
  {
   "cell_type": "code",
   "execution_count": 3,
   "metadata": {
    "slideshow": {
     "slide_type": "-"
    }
   },
   "outputs": [],
   "source": [
    "#help()"
   ]
  },
  {
   "cell_type": "code",
   "execution_count": 4,
   "metadata": {},
   "outputs": [
    {
     "data": {
      "text/plain": [
       "\u001b[0;31mSignature:\u001b[0m \u001b[0mprint\u001b[0m\u001b[0;34m(\u001b[0m\u001b[0;34m*\u001b[0m\u001b[0margs\u001b[0m\u001b[0;34m,\u001b[0m \u001b[0msep\u001b[0m\u001b[0;34m=\u001b[0m\u001b[0;34m' '\u001b[0m\u001b[0;34m,\u001b[0m \u001b[0mend\u001b[0m\u001b[0;34m=\u001b[0m\u001b[0;34m'\\n'\u001b[0m\u001b[0;34m,\u001b[0m \u001b[0mfile\u001b[0m\u001b[0;34m=\u001b[0m\u001b[0;32mNone\u001b[0m\u001b[0;34m,\u001b[0m \u001b[0mflush\u001b[0m\u001b[0;34m=\u001b[0m\u001b[0;32mFalse\u001b[0m\u001b[0;34m)\u001b[0m\u001b[0;34m\u001b[0m\u001b[0;34m\u001b[0m\u001b[0m\n",
       "\u001b[0;31mDocstring:\u001b[0m\n",
       "Prints the values to a stream, or to sys.stdout by default.\n",
       "\n",
       "sep\n",
       "  string inserted between values, default a space.\n",
       "end\n",
       "  string appended after the last value, default a newline.\n",
       "file\n",
       "  a file-like object (stream); defaults to the current sys.stdout.\n",
       "flush\n",
       "  whether to forcibly flush the stream.\n",
       "\u001b[0;31mType:\u001b[0m      builtin_function_or_method\n"
      ]
     },
     "metadata": {},
     "output_type": "display_data"
    }
   ],
   "source": [
    "print?"
   ]
  },
  {
   "cell_type": "markdown",
   "metadata": {
    "slideshow": {
     "slide_type": "slide"
    }
   },
   "source": [
    "# The Python Scientific Computing Ecosystem\n",
    "\n",
    "* Python Standard Library: system/os interaction, many utilities\n",
    "* Third-party libraries (many wrappers around libraries written in **compiled** languages)\n",
    "    * `numpy`: multidimensional arrays & array syntax; linear algebra; random numbers\n",
    "    * `scipy`: numerical routines for many common algorithms\n",
    "    * `pandas`: DataFrames and Series for dealing with tabular data\n",
    "    * `matplotlib`: plotting and data visualization\n",
    "    * etc.\n",
    "\n",
    "* Anaconda and other distributions come bundled with many packages\n",
    "* use ```conda``` package manager for installing /updating packages in Anaconda\n",
    "* use ```pip``` package manager for installing from Python Package Index (PyPI) with any distribution"
   ]
  },
  {
   "cell_type": "markdown",
   "metadata": {
    "jp-MarkdownHeadingCollapsed": true,
    "slideshow": {
     "slide_type": "slide"
    },
    "tags": []
   },
   "source": [
    "# Python Intro\n",
    "\n",
    "### Based on slides from PEARC19 \n",
    "\n",
    "#### Chris Myers\n",
    "*Center for Advanced Computing, Cornell University*\n",
    "\n",
    "#### Kate Cahill \n",
    "*Ohio Supercomputing Center*\n",
    "\n",
    "#### Aaron Weeden\n",
    "*Shodor Education Foundation*\n",
    "    \n",
    "<br>\n",
    "\n",
    "*based in part on previous PEARC Python tutorials developed by Steve Lantz (Cornell CAC) and others*"
   ]
  },
  {
   "cell_type": "markdown",
   "metadata": {
    "slideshow": {
     "slide_type": "slide"
    }
   },
   "source": [
    "# NumPy"
   ]
  },
  {
   "cell_type": "code",
   "execution_count": 5,
   "metadata": {
    "slideshow": {
     "slide_type": "-"
    }
   },
   "outputs": [
    {
     "name": "stdout",
     "output_type": "stream",
     "text": [
      "[[1 2 3]\n",
      " [4 5 6]\n",
      " [7 8 9]]\n",
      "\n",
      "5\n",
      "[7 8 9]\n",
      "[[5 6]\n",
      " [8 9]]\n",
      "\n",
      "(3, 3) int64\n"
     ]
    }
   ],
   "source": [
    "import numpy as np   # imports numpy, but calls it np\n",
    "\n",
    "a = np.array([[1,2,3], [4,5,6], [7,8,9]])\n",
    "print( a )\n",
    "print()\n",
    "\n",
    "print( a[1,1] )\n",
    "print( a[2] )\n",
    "print( a[1:,1:] )\n",
    "print()\n",
    "print( a.shape, a.dtype )"
   ]
  },
  {
   "cell_type": "markdown",
   "metadata": {
    "slideshow": {
     "slide_type": "slide"
    }
   },
   "source": [
    "# Array operations\n",
    "\n",
    "* element-wise arithmetic operations\n",
    "* equivalent to looping over all the elements and executing the operation\n",
    "* array-level operations are cleaner and faster\n",
    "* avoid for loops over arrays if you can"
   ]
  },
  {
   "cell_type": "code",
   "execution_count": 6,
   "metadata": {
    "slideshow": {
     "slide_type": "slide"
    }
   },
   "outputs": [
    {
     "name": "stdout",
     "output_type": "stream",
     "text": [
      "[[1 2 3]\n",
      " [4 5 6]\n",
      " [7 8 9]] \n",
      "\n",
      "[[0.1 0.2 0.3]\n",
      " [0.4 0.5 0.6]\n",
      " [0.7 0.8 0.9]] \n",
      "\n",
      "[[1.1 2.2 3.3]\n",
      " [4.4 5.5 6.6]\n",
      " [7.7 8.8 9.9]] \n",
      "\n",
      "[[0.1 0.4 0.9]\n",
      " [1.6 2.5 3.6]\n",
      " [4.9 6.4 8.1]] \n",
      "\n",
      "[[10. 20. 30.]\n",
      " [40. 50. 60.]\n",
      " [70. 80. 90.]]\n"
     ]
    }
   ],
   "source": [
    "b = np.array([[0.1, 0.2, 0.3], [0.4, 0.5, 0.6], [0.7, 0.8, 0.9]])\n",
    "print( a, '\\n')\n",
    "print( b, '\\n')\n",
    "\n",
    "c = a + b    # a and b must be of the same shape\n",
    "\n",
    "print( c, '\\n')\n",
    "\n",
    "d = a * b    # element-wise array multiplication: NOT matrix multiplication\n",
    "print( d, '\\n')\n",
    "\n",
    "print( 100 * b )"
   ]
  },
  {
   "cell_type": "markdown",
   "metadata": {
    "slideshow": {
     "slide_type": "slide"
    }
   },
   "source": [
    "# Array operations (continued)\n",
    "\n",
    "* Mathematical functions (e.g., trig, log/exp, etc.)\n",
    "* Utility functions"
   ]
  },
  {
   "cell_type": "code",
   "execution_count": 7,
   "metadata": {},
   "outputs": [
    {
     "name": "stdout",
     "output_type": "stream",
     "text": [
      "[0.  0.1 0.2 0.3 0.4 0.5 0.6 0.7 0.8 0.9 1. ] \n",
      "\n",
      "[0.         0.09983342 0.19866933 0.29552021 0.38941834 0.47942554\n",
      " 0.56464247 0.64421769 0.71735609 0.78332691 0.84147098] \n",
      "\n",
      "[[1. 1. 1. 1.]\n",
      " [1. 1. 1. 1.]\n",
      " [1. 1. 1. 1.]\n",
      " [1. 1. 1. 1.]]\n"
     ]
    }
   ],
   "source": [
    "x = np.linspace(0., 1., 11)\n",
    "print( x, '\\n')\n",
    "print( np.sin(x), '\\n')\n",
    "\n",
    "y = np.ones((4,4))\n",
    "print( y )"
   ]
  },
  {
   "cell_type": "markdown",
   "metadata": {
    "slideshow": {
     "slide_type": "slide"
    }
   },
   "source": [
    "# Array operations (continued)\n",
    "\n",
    "* methods on arrays (over entire array, or along a specific axis, e.g., row or column)\n",
    "* <code>sum(), mean(), std(), min(), max(), etc.</code>"
   ]
  },
  {
   "cell_type": "code",
   "execution_count": 8,
   "metadata": {},
   "outputs": [
    {
     "name": "stdout",
     "output_type": "stream",
     "text": [
      "[[1 2 3]\n",
      " [4 5 6]\n",
      " [7 8 9]] \n",
      "\n",
      "45\n",
      "[12 15 18]\n",
      "[ 6 15 24]\n",
      "\n",
      "5.0\n",
      "[2. 5. 8.]\n"
     ]
    }
   ],
   "source": [
    "print(a, '\\n')\n",
    "\n",
    "print( a.sum() )\n",
    "print( a.sum(axis=0) )  # axis = 0: rows\n",
    "print( a.sum(axis=1) )  # axis = 1: columns\n",
    "\n",
    "print()\n",
    "\n",
    "print( a.mean() )\n",
    "print( a.mean(axis=1) )"
   ]
  },
  {
   "cell_type": "markdown",
   "metadata": {
    "slideshow": {
     "slide_type": "slide"
    }
   },
   "source": [
    "# Random numbers"
   ]
  },
  {
   "cell_type": "code",
   "execution_count": 9,
   "metadata": {
    "slideshow": {
     "slide_type": "-"
    }
   },
   "outputs": [
    {
     "name": "stdout",
     "output_type": "stream",
     "text": [
      "[0.69030091 0.31911875 0.67661524 0.86779097 0.30074881 0.94883171\n",
      " 0.46066421 0.65091519 0.93307833 0.77050773]\n",
      "0.6618571834465933\n",
      "0.6618571834465933\n"
     ]
    }
   ],
   "source": [
    "x = np.random.random(10)\n",
    "\n",
    "print( x )\n",
    "print( x.mean() )\n",
    "print( np.mean(x) )"
   ]
  },
  {
   "cell_type": "code",
   "execution_count": 10,
   "metadata": {
    "slideshow": {
     "slide_type": "slide"
    }
   },
   "outputs": [
    {
     "data": {
      "text/plain": [
       "[<matplotlib.lines.Line2D at 0x149ce9972190>]"
      ]
     },
     "execution_count": 10,
     "metadata": {},
     "output_type": "execute_result"
    },
    {
     "data": {
      "image/png": "[encoded data removed]",
      "text/plain": [
       "<Figure size 640x480 with 1 Axes>"
      ]
     },
     "metadata": {},
     "output_type": "display_data"
    }
   ],
   "source": [
    "# generate N random steps in x-y plane (D=2)\n",
    "N = 10000\n",
    "steps = np.random.random((N,2))-0.5\n",
    "\n",
    "# make a walk by cumulatively summing each step\n",
    "walk = np.cumsum(steps, axis=0)\n",
    "\n",
    "# plot the walk in the x-y plane\n",
    "import matplotlib.pyplot as plt\n",
    "plt.plot(walk[:,0], walk[:,1])"
   ]
  },
  {
   "cell_type": "markdown",
   "metadata": {
    "slideshow": {
     "slide_type": "slide"
    }
   },
   "source": [
    "# Exercise: more fun with random numbers\n",
    "\n",
    "For values of N equal to [1, 10, 100, 1000, 10000, 100000, 1000000]:\n",
    "\n",
    "compute the mean of N random numbers\n",
    "\n",
    "print the value of N and the computed mean"
   ]
  },
  {
   "cell_type": "code",
   "execution_count": 11,
   "metadata": {
    "slideshow": {
     "slide_type": "-"
    }
   },
   "outputs": [
    {
     "name": "stdout",
     "output_type": "stream",
     "text": [
      "      1:      0.3695014800\n",
      "     10:      0.5163116931\n",
      "    100:      0.5243493452\n",
      "   1000:      0.5005058900\n",
      "  10000:      0.4994866299\n",
      " 100000:      0.4996797255\n",
      "1000000:      0.5001973844\n"
     ]
    }
   ],
   "source": [
    "for N in [1,10,100,1000,10000,100000,1000000]:\n",
    "    rmean = np.mean(np.random.random(N))\n",
    "    print( f'{N:7d}: {rmean:17.10f}')"
   ]
  },
  {
   "cell_type": "code",
   "execution_count": 12,
   "metadata": {},
   "outputs": [
    {
     "name": "stdout",
     "output_type": "stream",
     "text": [
      "      1:      0.7475079903\n",
      "     10:      0.4813534976\n",
      "    100:      0.5155032005\n",
      "   1000:      0.5000705015\n",
      "  10000:      0.5021645608\n",
      " 100000:      0.5006323090\n",
      "1000000:      0.5002370075\n"
     ]
    }
   ],
   "source": [
    "N = 10**np.arange(7); \n",
    "R = np.array([ np.random.random(n).mean() for n in N ])\n",
    "for k,r in enumerate(R): print( f'{N[k]:7d}: {r:17.10f}')"
   ]
  },
  {
   "cell_type": "markdown",
   "metadata": {
    "slideshow": {
     "slide_type": "slide"
    }
   },
   "source": [
    "# SciPy"
   ]
  },
  {
   "cell_type": "code",
   "execution_count": 13,
   "metadata": {},
   "outputs": [
    {
     "name": "stdout",
     "output_type": "stream",
     "text": [
      "[1.49416626]\n",
      "[-0.21416626]\n"
     ]
    }
   ],
   "source": [
    "# Root finding using fsolve\n",
    "\n",
    "from scipy.optimize import fsolve\n",
    "\n",
    "# Finds solutions of f(x)=0 (x can be array of values)\n",
    "\n",
    "def myfunc(x):\n",
    "    return 0.8 + 3.2*x - 2.5*x**2\n",
    "\n",
    "root1 = fsolve(myfunc, x0=1.)\n",
    "print( root1 )\n",
    "\n",
    "root2 = fsolve(myfunc, x0=-1.)\n",
    "print( root2 )"
   ]
  },
  {
   "cell_type": "code",
   "execution_count": 14,
   "metadata": {
    "slideshow": {
     "slide_type": "slide"
    }
   },
   "outputs": [
    {
     "data": {
      "text/plain": [
       "[<matplotlib.lines.Line2D at 0x149cdb420650>]"
      ]
     },
     "execution_count": 14,
     "metadata": {},
     "output_type": "execute_result"
    },
    {
     "data": {
      "image/png": "[encoded data removed]",
      "text/plain": [
       "<Figure size 640x480 with 1 Axes>"
      ]
     },
     "metadata": {},
     "output_type": "display_data"
    }
   ],
   "source": [
    "xs = np.arange(-1, 2, 0.1)\n",
    "plt.plot(xs, myfunc(xs))   # myfunc works on arrays too!\n",
	"import matplotlib.pyplot as plt\n",
    "plt.plot(root1[0], 0., 'ro')\n",
    "plt.plot(root2[0], 0., 'ro')"
   ]
  },
  {
   "cell_type": "code",
   "execution_count": 15,
   "metadata": {
    "slideshow": {
     "slide_type": "slide"
    }
   },
   "outputs": [
    {
     "data": {
      "text/plain": [
       "[<matplotlib.lines.Line2D at 0x149cdb44f110>]"
      ]
     },
     "execution_count": 15,
     "metadata": {},
     "output_type": "execute_result"
    },
    {
     "data": {
      "image/png": "[encoded data removed]",
      "text/plain": [
       "<Figure size 640x480 with 1 Axes>"
      ]
     },
     "metadata": {},
     "output_type": "display_data"
    }
   ],
   "source": [
    "# ODE integration using odeint\n",
    "\n",
    "from scipy.integrate import odeint\n",
    "\n",
    "# Integrates general differential equation of the form dy/dt = f(y,t)\n",
    "# y can have multiple components, stored in an array\n",
    "\n",
    "def f(y,t):\n",
    "    return -y\n",
    "\n",
    "trajectory = odeint(f, y0=[1.0], t=np.linspace(0.,5.,51))\n",
    "\n",
    "plt.plot(np.linspace(0.,5.,51), trajectory)"
   ]
  },
  {
   "cell_type": "markdown",
   "metadata": {
    "slideshow": {
     "slide_type": "slide"
    }
   },
   "source": [
    "# Pandas\n",
    "\n",
    "### DataFrames (and Series)\n",
    "\n",
    "* Tabular data as you would find in a spreadsheet or csv-formatted file\n",
    "* Each column is a Series, with a particular type (like a NumPy array)\n",
    "* Columns can be different types\n",
    "* Row and column labels (df.index and df.columns)\n",
    "* Rows and columns can be indexed (accessed) by labels or position\n",
    "* Follows similar logic as NumPy: axis=0 (rows) and axis=1 (columns)"
   ]
  },
  {
   "cell_type": "code",
   "execution_count": 16,
   "metadata": {
    "slideshow": {
     "slide_type": "slide"
    }
   },
   "outputs": [
    {
     "name": "stdout",
     "output_type": "stream",
     "text": [
      "         Date Observer  Temperature  Rainfall\n",
      "0  2019-06-01      Bob         69.7      0.00\n",
      "1  2019-06-02    Carol         72.3      0.12\n",
      "2  2019-06-03      Bob         73.2      0.11\n",
      "3  2019-06-04      Ted         73.2      0.00\n",
      "4  2019-06-05    Alice         66.4      0.00\n",
      "5  2019-06-06      Bob         66.4      0.51\n",
      "6  2019-06-06    Alice         66.3      0.43\n",
      "7  2019-06-07      Ted         66.7      0.02\n",
      "8  2019-06-08    Alice         73.0      0.00\n",
      "9  2019-06-09      Bob         71.1       NaN\n",
      "10 2019-06-10    Carol         69.7      0.32\n"
     ]
    },
    {
     "data": {
      "text/html": [
       "<div>\n",
       "<style scoped>\n",
       "    .dataframe tbody tr th:only-of-type {\n",
       "        vertical-align: middle;\n",
       "    }\n",
       "\n",
       "    .dataframe tbody tr th {\n",
       "        vertical-align: top;\n",
       "    }\n",
       "\n",
       "    .dataframe thead th {\n",
       "        text-align: right;\n",
       "    }\n",
       "</style>\n",
       "<table border=\"1\" class=\"dataframe\">\n",
       "  <thead>\n",
       "    <tr style=\"text-align: right;\">\n",
       "      <th></th>\n",
       "      <th>Date</th>\n",
       "      <th>Observer</th>\n",
       "      <th>Temperature</th>\n",
       "      <th>Rainfall</th>\n",
       "    </tr>\n",
       "  </thead>\n",
       "  <tbody>\n",
       "    <tr>\n",
       "      <th>0</th>\n",
       "      <td>2019-06-01</td>\n",
       "      <td>Bob</td>\n",
       "      <td>69.7</td>\n",
       "      <td>0.00</td>\n",
       "    </tr>\n",
       "    <tr>\n",
       "      <th>1</th>\n",
       "      <td>2019-06-02</td>\n",
       "      <td>Carol</td>\n",
       "      <td>72.3</td>\n",
       "      <td>0.12</td>\n",
       "    </tr>\n",
       "    <tr>\n",
       "      <th>2</th>\n",
       "      <td>2019-06-03</td>\n",
       "      <td>Bob</td>\n",
       "      <td>73.2</td>\n",
       "      <td>0.11</td>\n",
       "    </tr>\n",
       "    <tr>\n",
       "      <th>3</th>\n",
       "      <td>2019-06-04</td>\n",
       "      <td>Ted</td>\n",
       "      <td>73.2</td>\n",
       "      <td>0.00</td>\n",
       "    </tr>\n",
       "    <tr>\n",
       "      <th>4</th>\n",
       "      <td>2019-06-05</td>\n",
       "      <td>Alice</td>\n",
       "      <td>66.4</td>\n",
       "      <td>0.00</td>\n",
       "    </tr>\n",
       "    <tr>\n",
       "      <th>5</th>\n",
       "      <td>2019-06-06</td>\n",
       "      <td>Bob</td>\n",
       "      <td>66.4</td>\n",
       "      <td>0.51</td>\n",
       "    </tr>\n",
       "    <tr>\n",
       "      <th>6</th>\n",
       "      <td>2019-06-06</td>\n",
       "      <td>Alice</td>\n",
       "      <td>66.3</td>\n",
       "      <td>0.43</td>\n",
       "    </tr>\n",
       "    <tr>\n",
       "      <th>7</th>\n",
       "      <td>2019-06-07</td>\n",
       "      <td>Ted</td>\n",
       "      <td>66.7</td>\n",
       "      <td>0.02</td>\n",
       "    </tr>\n",
       "    <tr>\n",
       "      <th>8</th>\n",
       "      <td>2019-06-08</td>\n",
       "      <td>Alice</td>\n",
       "      <td>73.0</td>\n",
       "      <td>0.00</td>\n",
       "    </tr>\n",
       "    <tr>\n",
       "      <th>9</th>\n",
       "      <td>2019-06-09</td>\n",
       "      <td>Bob</td>\n",
       "      <td>71.1</td>\n",
       "      <td>NaN</td>\n",
       "    </tr>\n",
       "    <tr>\n",
       "      <th>10</th>\n",
       "      <td>2019-06-10</td>\n",
       "      <td>Carol</td>\n",
       "      <td>69.7</td>\n",
       "      <td>0.32</td>\n",
       "    </tr>\n",
       "  </tbody>\n",
       "</table>\n",
       "</div>"
      ],
      "text/plain": [
       "         Date Observer  Temperature  Rainfall\n",
       "0  2019-06-01      Bob         69.7      0.00\n",
       "1  2019-06-02    Carol         72.3      0.12\n",
       "2  2019-06-03      Bob         73.2      0.11\n",
       "3  2019-06-04      Ted         73.2      0.00\n",
       "4  2019-06-05    Alice         66.4      0.00\n",
       "5  2019-06-06      Bob         66.4      0.51\n",
       "6  2019-06-06    Alice         66.3      0.43\n",
       "7  2019-06-07      Ted         66.7      0.02\n",
       "8  2019-06-08    Alice         73.0      0.00\n",
       "9  2019-06-09      Bob         71.1       NaN\n",
       "10 2019-06-10    Carol         69.7      0.32"
      ]
     },
     "execution_count": 16,
     "metadata": {},
     "output_type": "execute_result"
    }
   ],
   "source": [
    "import pandas as pd; import numpy as np\n",
    "dates = ['2019-06-01', '2019-06-02', '2019-06-03', '2019-06-04', '2019-06-05', '2019-06-06', \\\n",
    "         '2019-06-06','2019-06-07', '2019-06-08', '2019-06-09', '2019-06-10']\n",
    "observers = ['Bob', 'Carol', 'Bob','Ted', 'Alice', 'Bob', 'Alice', 'Ted', 'Alice', 'Bob', 'Carol']\n",
    "temperatures = np.round(list(70 + (10.*(np.random.random(11)-0.5))), 1)\n",
    "rainfall = [0.,0.12,0.11,0.,0.,0.51,0.43,0.02,0.,np.nan,0.32]\n",
    "data_tuples = list(zip(dates,observers,temperatures,rainfall))\n",
    "df = pd.DataFrame(data_tuples, columns=['Date', 'Observer', 'Temperature', 'Rainfall'])\n",
    "df['Date'] = pd.to_datetime(df['Date'])\n",
    "print( df )\n",
    "df"
   ]
  },
  {
   "cell_type": "code",
   "execution_count": 17,
   "metadata": {
    "slideshow": {
     "slide_type": "slide"
    }
   },
   "outputs": [
    {
     "name": "stdout",
     "output_type": "stream",
     "text": [
      "0     69.7\n",
      "1     72.3\n",
      "2     73.2\n",
      "3     73.2\n",
      "4     66.4\n",
      "5     66.4\n",
      "6     66.3\n",
      "7     66.7\n",
      "8     73.0\n",
      "9     71.1\n",
      "10    69.7\n",
      "Name: Temperature, dtype: float64\n"
     ]
    }
   ],
   "source": [
    "print(df['Temperature'])"
   ]
  },
  {
   "cell_type": "code",
   "execution_count": 18,
   "metadata": {},
   "outputs": [
    {
     "data": {
      "text/html": [
       "<div>\n",
       "<style scoped>\n",
       "    .dataframe tbody tr th:only-of-type {\n",
       "        vertical-align: middle;\n",
       "    }\n",
       "\n",
       "    .dataframe tbody tr th {\n",
       "        vertical-align: top;\n",
       "    }\n",
       "\n",
       "    .dataframe thead th {\n",
       "        text-align: right;\n",
       "    }\n",
       "</style>\n",
       "<table border=\"1\" class=\"dataframe\">\n",
       "  <thead>\n",
       "    <tr style=\"text-align: right;\">\n",
       "      <th></th>\n",
       "      <th>Date</th>\n",
       "      <th>Temperature</th>\n",
       "    </tr>\n",
       "  </thead>\n",
       "  <tbody>\n",
       "    <tr>\n",
       "      <th>0</th>\n",
       "      <td>2019-06-01</td>\n",
       "      <td>69.7</td>\n",
       "    </tr>\n",
       "    <tr>\n",
       "      <th>1</th>\n",
       "      <td>2019-06-02</td>\n",
       "      <td>72.3</td>\n",
       "    </tr>\n",
       "    <tr>\n",
       "      <th>2</th>\n",
       "      <td>2019-06-03</td>\n",
       "      <td>73.2</td>\n",
       "    </tr>\n",
       "    <tr>\n",
       "      <th>3</th>\n",
       "      <td>2019-06-04</td>\n",
       "      <td>73.2</td>\n",
       "    </tr>\n",
       "    <tr>\n",
       "      <th>4</th>\n",
       "      <td>2019-06-05</td>\n",
       "      <td>66.4</td>\n",
       "    </tr>\n",
       "    <tr>\n",
       "      <th>5</th>\n",
       "      <td>2019-06-06</td>\n",
       "      <td>66.4</td>\n",
       "    </tr>\n",
       "    <tr>\n",
       "      <th>6</th>\n",
       "      <td>2019-06-06</td>\n",
       "      <td>66.3</td>\n",
       "    </tr>\n",
       "    <tr>\n",
       "      <th>7</th>\n",
       "      <td>2019-06-07</td>\n",
       "      <td>66.7</td>\n",
       "    </tr>\n",
       "    <tr>\n",
       "      <th>8</th>\n",
       "      <td>2019-06-08</td>\n",
       "      <td>73.0</td>\n",
       "    </tr>\n",
       "    <tr>\n",
       "      <th>9</th>\n",
       "      <td>2019-06-09</td>\n",
       "      <td>71.1</td>\n",
       "    </tr>\n",
       "    <tr>\n",
       "      <th>10</th>\n",
       "      <td>2019-06-10</td>\n",
       "      <td>69.7</td>\n",
       "    </tr>\n",
       "  </tbody>\n",
       "</table>\n",
       "</div>"
      ],
      "text/plain": [
       "         Date  Temperature\n",
       "0  2019-06-01         69.7\n",
       "1  2019-06-02         72.3\n",
       "2  2019-06-03         73.2\n",
       "3  2019-06-04         73.2\n",
       "4  2019-06-05         66.4\n",
       "5  2019-06-06         66.4\n",
       "6  2019-06-06         66.3\n",
       "7  2019-06-07         66.7\n",
       "8  2019-06-08         73.0\n",
       "9  2019-06-09         71.1\n",
       "10 2019-06-10         69.7"
      ]
     },
     "execution_count": 18,
     "metadata": {},
     "output_type": "execute_result"
    }
   ],
   "source": [
    "df[['Date', 'Temperature']]"
   ]
  },
  {
   "cell_type": "code",
   "execution_count": 19,
   "metadata": {
    "slideshow": {
     "slide_type": "slide"
    }
   },
   "outputs": [
    {
     "data": {
      "text/plain": [
       "3    0.00\n",
       "4    0.00\n",
       "5    0.51\n",
       "6    0.43\n",
       "7    0.02\n",
       "Name: Rainfall, dtype: float64"
      ]
     },
     "execution_count": 19,
     "metadata": {},
     "output_type": "execute_result"
    }
   ],
   "source": [
    "df.loc[3:7, 'Rainfall']    # pandas slicing is inclusive of stop, unlike lists and numpy arrays"
   ]
  },
  {
   "cell_type": "code",
   "execution_count": 20,
   "metadata": {},
   "outputs": [
    {
     "name": "stderr",
     "output_type": "stream",
     "text": [
      "/tmp/ipykernel_952417/3482590198.py:1: FutureWarning: The default value of numeric_only in DataFrameGroupBy.mean is deprecated. In a future version, numeric_only will default to False. Either specify numeric_only or select only columns which should be valid for the function.\n",
      "  df.groupby('Observer').mean()   # an example of split-apply-combine\n"
     ]
    },
    {
     "data": {
      "text/html": [
       "<div>\n",
       "<style scoped>\n",
       "    .dataframe tbody tr th:only-of-type {\n",
       "        vertical-align: middle;\n",
       "    }\n",
       "\n",
       "    .dataframe tbody tr th {\n",
       "        vertical-align: top;\n",
       "    }\n",
       "\n",
       "    .dataframe thead th {\n",
       "        text-align: right;\n",
       "    }\n",
       "</style>\n",
       "<table border=\"1\" class=\"dataframe\">\n",
       "  <thead>\n",
       "    <tr style=\"text-align: right;\">\n",
       "      <th></th>\n",
       "      <th>Temperature</th>\n",
       "      <th>Rainfall</th>\n",
       "    </tr>\n",
       "    <tr>\n",
       "      <th>Observer</th>\n",
       "      <th></th>\n",
       "      <th></th>\n",
       "    </tr>\n",
       "  </thead>\n",
       "  <tbody>\n",
       "    <tr>\n",
       "      <th>Alice</th>\n",
       "      <td>68.566667</td>\n",
       "      <td>0.143333</td>\n",
       "    </tr>\n",
       "    <tr>\n",
       "      <th>Bob</th>\n",
       "      <td>70.100000</td>\n",
       "      <td>0.206667</td>\n",
       "    </tr>\n",
       "    <tr>\n",
       "      <th>Carol</th>\n",
       "      <td>71.000000</td>\n",
       "      <td>0.220000</td>\n",
       "    </tr>\n",
       "    <tr>\n",
       "      <th>Ted</th>\n",
       "      <td>69.950000</td>\n",
       "      <td>0.010000</td>\n",
       "    </tr>\n",
       "  </tbody>\n",
       "</table>\n",
       "</div>"
      ],
      "text/plain": [
       "          Temperature  Rainfall\n",
       "Observer                       \n",
       "Alice       68.566667  0.143333\n",
       "Bob         70.100000  0.206667\n",
       "Carol       71.000000  0.220000\n",
       "Ted         69.950000  0.010000"
      ]
     },
     "execution_count": 20,
     "metadata": {},
     "output_type": "execute_result"
    }
   ],
   "source": [
    "df.groupby('Observer').mean()   # an example of split-apply-combine"
   ]
  },
  {
   "cell_type": "code",
   "execution_count": 21,
   "metadata": {},
   "outputs": [
    {
     "data": {
      "text/html": [
       "<div>\n",
       "<style scoped>\n",
       "    .dataframe tbody tr th:only-of-type {\n",
       "        vertical-align: middle;\n",
       "    }\n",
       "\n",
       "    .dataframe tbody tr th {\n",
       "        vertical-align: top;\n",
       "    }\n",
       "\n",
       "    .dataframe thead th {\n",
       "        text-align: right;\n",
       "    }\n",
       "</style>\n",
       "<table border=\"1\" class=\"dataframe\">\n",
       "  <thead>\n",
       "    <tr style=\"text-align: right;\">\n",
       "      <th></th>\n",
       "      <th>Observer</th>\n",
       "      <th>Temperature</th>\n",
       "      <th>Rainfall</th>\n",
       "    </tr>\n",
       "    <tr>\n",
       "      <th>Date</th>\n",
       "      <th></th>\n",
       "      <th></th>\n",
       "      <th></th>\n",
       "    </tr>\n",
       "  </thead>\n",
       "  <tbody>\n",
       "    <tr>\n",
       "      <th>2019-06-01</th>\n",
       "      <td>1</td>\n",
       "      <td>1</td>\n",
       "      <td>1</td>\n",
       "    </tr>\n",
       "    <tr>\n",
       "      <th>2019-06-02</th>\n",
       "      <td>1</td>\n",
       "      <td>1</td>\n",
       "      <td>1</td>\n",
       "    </tr>\n",
       "    <tr>\n",
       "      <th>2019-06-03</th>\n",
       "      <td>1</td>\n",
       "      <td>1</td>\n",
       "      <td>1</td>\n",
       "    </tr>\n",
       "    <tr>\n",
       "      <th>2019-06-04</th>\n",
       "      <td>1</td>\n",
       "      <td>1</td>\n",
       "      <td>1</td>\n",
       "    </tr>\n",
       "    <tr>\n",
       "      <th>2019-06-05</th>\n",
       "      <td>1</td>\n",
       "      <td>1</td>\n",
       "      <td>1</td>\n",
       "    </tr>\n",
       "    <tr>\n",
       "      <th>2019-06-06</th>\n",
       "      <td>2</td>\n",
       "      <td>2</td>\n",
       "      <td>2</td>\n",
       "    </tr>\n",
       "    <tr>\n",
       "      <th>2019-06-07</th>\n",
       "      <td>1</td>\n",
       "      <td>1</td>\n",
       "      <td>1</td>\n",
       "    </tr>\n",
       "    <tr>\n",
       "      <th>2019-06-08</th>\n",
       "      <td>1</td>\n",
       "      <td>1</td>\n",
       "      <td>1</td>\n",
       "    </tr>\n",
       "    <tr>\n",
       "      <th>2019-06-09</th>\n",
       "      <td>1</td>\n",
       "      <td>1</td>\n",
       "      <td>0</td>\n",
       "    </tr>\n",
       "    <tr>\n",
       "      <th>2019-06-10</th>\n",
       "      <td>1</td>\n",
       "      <td>1</td>\n",
       "      <td>1</td>\n",
       "    </tr>\n",
       "  </tbody>\n",
       "</table>\n",
       "</div>"
      ],
      "text/plain": [
       "            Observer  Temperature  Rainfall\n",
       "Date                                       \n",
       "2019-06-01         1            1         1\n",
       "2019-06-02         1            1         1\n",
       "2019-06-03         1            1         1\n",
       "2019-06-04         1            1         1\n",
       "2019-06-05         1            1         1\n",
       "2019-06-06         2            2         2\n",
       "2019-06-07         1            1         1\n",
       "2019-06-08         1            1         1\n",
       "2019-06-09         1            1         0\n",
       "2019-06-10         1            1         1"
      ]
     },
     "execution_count": 21,
     "metadata": {},
     "output_type": "execute_result"
    }
   ],
   "source": [
    "df.groupby('Date').nunique()"
   ]
  },
  {
   "cell_type": "code",
   "execution_count": 22,
   "metadata": {},
   "outputs": [],
   "source": [
    "import plotly.figure_factory as ff\n",
    "import plotly.express as px\n",
    "import plotly\n",
    "import plotly.io as pio\n",
    "pio.renderers.default = 'iframe'"
   ]
  },
  {
   "cell_type": "code",
   "execution_count": 23,
   "metadata": {},
   "outputs": [
    {
     "data": {
      "text/html": [
       "<iframe\n",
       "    scrolling=\"no\"\n",
       "    width=\"100%\"\n",
       "    height=\"430\"\n",
       "    src=\"iframe_figures/figure_23.html\"\n",
       "    frameborder=\"0\"\n",
       "    allowfullscreen\n",
       "></iframe>\n"
      ]
     },
     "metadata": {},
     "output_type": "display_data"
    }
   ],
   "source": [
    "table = ff.create_table(df)\n",
    "table"
   ]
  },
  {
   "cell_type": "code",
   "execution_count": 24,
   "metadata": {},
   "outputs": [
    {
     "data": {
      "text/html": [
       "<iframe\n",
       "    scrolling=\"no\"\n",
       "    width=\"100%\"\n",
       "    height=\"545px\"\n",
       "    src=\"iframe_figures/figure_24.html\"\n",
       "    frameborder=\"0\"\n",
       "    allowfullscreen\n",
       "></iframe>\n"
      ]
     },
     "metadata": {},
     "output_type": "display_data"
    }
   ],
   "source": [
    "px.scatter(df,x='Observer',y='Temperature')"
   ]
  },
  {
   "cell_type": "code",
   "execution_count": null,
   "metadata": {},
   "outputs": [],
   "source": []
  }
 ],
 "metadata": {
  "celltoolbar": "Slideshow",
  "kernelspec": {
   "display_name": "scicomp",
   "language": "python",
   "name": "scicomp"
  },
  "language_info": {
   "codemirror_mode": {
    "name": "ipython",
    "version": 3
   },
   "file_extension": ".py",
   "mimetype": "text/x-python",
   "name": "python",
   "nbconvert_exporter": "python",
   "pygments_lexer": "ipython3",
   "version": "3.11.0"
  },
  "rise": {
   "autolaunch": true,
   "scroll": true
  },
  "toc-autonumbering": false,
  "toc-showcode": false,
  "toc-showmarkdowntxt": true,
  "toc-showtags": false
 },
 "nbformat": 4,
 "nbformat_minor": 4
}
